{
 "cells": [
  {
   "cell_type": "markdown",
   "metadata": {},
   "source": [
    "The cell below contains monthly global land-ocean surface temperature in °F for each month during the years 2015-2022. \n",
    "\n",
    "Using  <code>enumerate()</code>, <code>zip()</code>, a nested <code>for</code> loop, or some combination of the three:\n",
    "\n",
    "<ol class=\"alpha\">\n",
    "<li> Calculate the monthly global land-ocean surface temperature anomalies (deviation from the mean) in °C for 2015-2021. The mean global land-ocean surface temperature calculated over the 20th century was 15.6°C.</li>\n",
    "<li> Create a new list with the mean monthly global surface temperature anomalies in °C for 2015-2021 (i.e. calculate the mean temperature anomaly for each month and put these values in a list). Use the command <code>np.mean()</code> to calculate mean values. </li> \n",
    "<li> Print each monthly mean value with the name of the month and units. </li>\n",
    "</ol>\n",
    "</div>"
   ]
  },
  {
   "cell_type": "code",
   "execution_count": 7,
   "metadata": {},
   "outputs": [],
   "source": [
    "\n",
    "# Import numpy for mean calculations\n",
    "import numpy as np\n",
    "\n",
    "tempF_2015 = [61.628, 61.7, 61.808, 61.448, 61.52, 61.538, 61.394, 61.52, 61.61, 62.042, 61.988, 62.168]\n",
    "tempF_2016 = [62.186, 62.546, 62.528, 62.06, 61.79, 61.52, 61.61, 61.916, 61.718, 61.682, 61.736, 61.628]\n",
    "tempF_2017 = [61.916, 62.132, 62.168, 61.772, 61.718, 61.376, 61.556, 61.646, 61.466, 61.7, 61.664, 61.754]\n",
    "tempF_2018 = [61.556, 61.61, 61.664, 61.682, 61.556, 61.466, 61.556, 61.448, 61.52, 61.916, 61.556, 61.718]\n",
    "tempF_2019 = [61.754, 61.79, 62.186, 61.898, 61.61, 61.7, 61.772, 61.79, 61.754, 61.898, 61.862, 62.042]\n",
    "tempF_2020 = [62.186, 62.312, 62.186, 62.114, 61.898, 61.736, 61.7, 61.646, 61.862, 61.664, 62.06, 61.538]\n",
    "tempF_2021 = [61.538, 61.232, 61.664, 61.43, 61.484, 61.592, 61.736, 61.556, 61.736, 61.88, 61.772, 61.61]\n",
    "\n",
    "# List of yearly lists (may or may not be useful)\n",
    "tempF_list = [tempF_2015, tempF_2016, tempF_2017, tempF_2018, tempF_2019, tempF_2020, tempF_2021]\n",
    "\n",
    "# List of years (probably useful)\n",
    "years = [2015, 2016, 2017, 2018, 2019, 2020, 2021]"
   ]
  },
  {
   "cell_type": "code",
   "execution_count": 13,
   "metadata": {},
   "outputs": [
    {
     "ename": "TypeError",
     "evalue": "unsupported operand type(s) for -: 'list' and 'int'",
     "output_type": "error",
     "traceback": [
      "\u001b[1;31m---------------------------------------------------------------------------\u001b[0m",
      "\u001b[1;31mTypeError\u001b[0m                                 Traceback (most recent call last)",
      "Cell \u001b[1;32mIn[13], line 7\u001b[0m\n\u001b[0;32m      4\u001b[0m tempC_list \u001b[39m=\u001b[39m []\n\u001b[0;32m      6\u001b[0m \u001b[39mfor\u001b[39;00m i,tempF \u001b[39min\u001b[39;00m \u001b[39menumerate\u001b[39m(tempF_list):\n\u001b[1;32m----> 7\u001b[0m     tempC \u001b[39m=\u001b[39m (tempF \u001b[39m-\u001b[39;49m\u001b[39m32\u001b[39;49m)\u001b[39m*\u001b[39m(\u001b[39m5\u001b[39m\u001b[39m/\u001b[39m\u001b[39m9\u001b[39m)\n\u001b[0;32m      8\u001b[0m     tempC_list\u001b[39m.\u001b[39mappend(tempC)\n",
      "\u001b[1;31mTypeError\u001b[0m: unsupported operand type(s) for -: 'list' and 'int'"
     ]
    }
   ],
   "source": [
    "# first try to turn them into C \n",
    "import numpy as np\n",
    "\n",
    "tempC_list = []\n",
    "\n",
    "for i,tempF in enumerate(tempF_list):\n",
    "    tempC = (tempF -32)*(5/9)\n",
    "    tempC_list.append(tempC)\n",
    "     \n",
    "\n",
    "\n",
    "\n"
   ]
  },
  {
   "cell_type": "code",
   "execution_count": 16,
   "metadata": {},
   "outputs": [
    {
     "ename": "TypeError",
     "evalue": "unsupported operand type(s) for -: 'list' and 'int'",
     "output_type": "error",
     "traceback": [
      "\u001b[1;31m---------------------------------------------------------------------------\u001b[0m",
      "\u001b[1;31mTypeError\u001b[0m                                 Traceback (most recent call last)",
      "Cell \u001b[1;32mIn[16], line 6\u001b[0m\n\u001b[0;32m      3\u001b[0m tempC_list \u001b[39m=\u001b[39m []\n\u001b[0;32m      5\u001b[0m \u001b[39mfor\u001b[39;00m tempF \u001b[39min\u001b[39;00m tempF_list:\n\u001b[1;32m----> 6\u001b[0m     tempC \u001b[39m=\u001b[39m (tempF \u001b[39m-\u001b[39;49m\u001b[39m32\u001b[39;49m)\u001b[39m*\u001b[39m(\u001b[39m5\u001b[39m\u001b[39m/\u001b[39m\u001b[39m9\u001b[39m)\n\u001b[0;32m      7\u001b[0m     tempC_list\u001b[39m.\u001b[39mappend(tempC)\n",
      "\u001b[1;31mTypeError\u001b[0m: unsupported operand type(s) for -: 'list' and 'int'"
     ]
    }
   ],
   "source": [
    "import numpy as np\n",
    "\n",
    "tempC_list = []\n",
    "\n",
    "for tempF in tempF_list:\n",
    "    tempC = (tempF -32)*(5/9)\n",
    "    tempC_list.append(tempC)\n"
   ]
  },
  {
   "cell_type": "code",
   "execution_count": 45,
   "metadata": {},
   "outputs": [
    {
     "name": "stdout",
     "output_type": "stream",
     "text": [
      " 2015 : [[16.46, 16.5, 16.56, 16.36, 16.4, 16.41, 16.33, 16.4, 16.45, 16.69, 16.66, 16.76], [16.77, 16.97, 16.96, 16.7, 16.55, 16.4, 16.45, 16.62, 16.51, 16.49, 16.52, 16.46], [16.62, 16.74, 16.76, 16.54, 16.51, 16.32, 16.42, 16.47, 16.37, 16.5, 16.48, 16.53], [16.42, 16.45, 16.48, 16.49, 16.42, 16.37, 16.42, 16.36, 16.4, 16.62, 16.42, 16.51], [16.53, 16.55, 16.77, 16.61, 16.45, 16.5, 16.54, 16.55, 16.53, 16.61, 16.59, 16.69], [16.77, 16.84, 16.77, 16.73, 16.61, 16.52, 16.5, 16.47, 16.59, 16.48, 16.7, 16.41], [16.41, 16.24, 16.48, 16.35, 16.38, 16.44, 16.52, 16.42, 16.52, 16.6, 16.54, 16.45]]\n",
      " 2016 : [[16.46, 16.5, 16.56, 16.36, 16.4, 16.41, 16.33, 16.4, 16.45, 16.69, 16.66, 16.76], [16.77, 16.97, 16.96, 16.7, 16.55, 16.4, 16.45, 16.62, 16.51, 16.49, 16.52, 16.46], [16.62, 16.74, 16.76, 16.54, 16.51, 16.32, 16.42, 16.47, 16.37, 16.5, 16.48, 16.53], [16.42, 16.45, 16.48, 16.49, 16.42, 16.37, 16.42, 16.36, 16.4, 16.62, 16.42, 16.51], [16.53, 16.55, 16.77, 16.61, 16.45, 16.5, 16.54, 16.55, 16.53, 16.61, 16.59, 16.69], [16.77, 16.84, 16.77, 16.73, 16.61, 16.52, 16.5, 16.47, 16.59, 16.48, 16.7, 16.41], [16.41, 16.24, 16.48, 16.35, 16.38, 16.44, 16.52, 16.42, 16.52, 16.6, 16.54, 16.45]]\n",
      " 2017 : [[16.46, 16.5, 16.56, 16.36, 16.4, 16.41, 16.33, 16.4, 16.45, 16.69, 16.66, 16.76], [16.77, 16.97, 16.96, 16.7, 16.55, 16.4, 16.45, 16.62, 16.51, 16.49, 16.52, 16.46], [16.62, 16.74, 16.76, 16.54, 16.51, 16.32, 16.42, 16.47, 16.37, 16.5, 16.48, 16.53], [16.42, 16.45, 16.48, 16.49, 16.42, 16.37, 16.42, 16.36, 16.4, 16.62, 16.42, 16.51], [16.53, 16.55, 16.77, 16.61, 16.45, 16.5, 16.54, 16.55, 16.53, 16.61, 16.59, 16.69], [16.77, 16.84, 16.77, 16.73, 16.61, 16.52, 16.5, 16.47, 16.59, 16.48, 16.7, 16.41], [16.41, 16.24, 16.48, 16.35, 16.38, 16.44, 16.52, 16.42, 16.52, 16.6, 16.54, 16.45]]\n",
      " 2018 : [[16.46, 16.5, 16.56, 16.36, 16.4, 16.41, 16.33, 16.4, 16.45, 16.69, 16.66, 16.76], [16.77, 16.97, 16.96, 16.7, 16.55, 16.4, 16.45, 16.62, 16.51, 16.49, 16.52, 16.46], [16.62, 16.74, 16.76, 16.54, 16.51, 16.32, 16.42, 16.47, 16.37, 16.5, 16.48, 16.53], [16.42, 16.45, 16.48, 16.49, 16.42, 16.37, 16.42, 16.36, 16.4, 16.62, 16.42, 16.51], [16.53, 16.55, 16.77, 16.61, 16.45, 16.5, 16.54, 16.55, 16.53, 16.61, 16.59, 16.69], [16.77, 16.84, 16.77, 16.73, 16.61, 16.52, 16.5, 16.47, 16.59, 16.48, 16.7, 16.41], [16.41, 16.24, 16.48, 16.35, 16.38, 16.44, 16.52, 16.42, 16.52, 16.6, 16.54, 16.45]]\n",
      " 2019 : [[16.46, 16.5, 16.56, 16.36, 16.4, 16.41, 16.33, 16.4, 16.45, 16.69, 16.66, 16.76], [16.77, 16.97, 16.96, 16.7, 16.55, 16.4, 16.45, 16.62, 16.51, 16.49, 16.52, 16.46], [16.62, 16.74, 16.76, 16.54, 16.51, 16.32, 16.42, 16.47, 16.37, 16.5, 16.48, 16.53], [16.42, 16.45, 16.48, 16.49, 16.42, 16.37, 16.42, 16.36, 16.4, 16.62, 16.42, 16.51], [16.53, 16.55, 16.77, 16.61, 16.45, 16.5, 16.54, 16.55, 16.53, 16.61, 16.59, 16.69], [16.77, 16.84, 16.77, 16.73, 16.61, 16.52, 16.5, 16.47, 16.59, 16.48, 16.7, 16.41], [16.41, 16.24, 16.48, 16.35, 16.38, 16.44, 16.52, 16.42, 16.52, 16.6, 16.54, 16.45]]\n",
      " 2020 : [[16.46, 16.5, 16.56, 16.36, 16.4, 16.41, 16.33, 16.4, 16.45, 16.69, 16.66, 16.76], [16.77, 16.97, 16.96, 16.7, 16.55, 16.4, 16.45, 16.62, 16.51, 16.49, 16.52, 16.46], [16.62, 16.74, 16.76, 16.54, 16.51, 16.32, 16.42, 16.47, 16.37, 16.5, 16.48, 16.53], [16.42, 16.45, 16.48, 16.49, 16.42, 16.37, 16.42, 16.36, 16.4, 16.62, 16.42, 16.51], [16.53, 16.55, 16.77, 16.61, 16.45, 16.5, 16.54, 16.55, 16.53, 16.61, 16.59, 16.69], [16.77, 16.84, 16.77, 16.73, 16.61, 16.52, 16.5, 16.47, 16.59, 16.48, 16.7, 16.41], [16.41, 16.24, 16.48, 16.35, 16.38, 16.44, 16.52, 16.42, 16.52, 16.6, 16.54, 16.45]]\n",
      " 2021 : [[16.46, 16.5, 16.56, 16.36, 16.4, 16.41, 16.33, 16.4, 16.45, 16.69, 16.66, 16.76], [16.77, 16.97, 16.96, 16.7, 16.55, 16.4, 16.45, 16.62, 16.51, 16.49, 16.52, 16.46], [16.62, 16.74, 16.76, 16.54, 16.51, 16.32, 16.42, 16.47, 16.37, 16.5, 16.48, 16.53], [16.42, 16.45, 16.48, 16.49, 16.42, 16.37, 16.42, 16.36, 16.4, 16.62, 16.42, 16.51], [16.53, 16.55, 16.77, 16.61, 16.45, 16.5, 16.54, 16.55, 16.53, 16.61, 16.59, 16.69], [16.77, 16.84, 16.77, 16.73, 16.61, 16.52, 16.5, 16.47, 16.59, 16.48, 16.7, 16.41], [16.41, 16.24, 16.48, 16.35, 16.38, 16.44, 16.52, 16.42, 16.52, 16.6, 16.54, 16.45]]\n"
     ]
    }
   ],
   "source": [
    "import numpy as np\n",
    "\n",
    "tempC_list = []\n",
    "anomC_list = []\n",
    "\n",
    "for tempF,year in zip(tempF_list,years):\n",
    "    year_C = []\n",
    "    for value in tempF:\n",
    "        C_value = round(((value -32) *(5/9)),2)\n",
    "        year_C.append(C_value)\n",
    "    tempC_list.append(year_C)\n",
    "\n",
    "for year in years:\n",
    "    print(f\" {year} : {tempC_list}\")\n"
   ]
  },
  {
   "cell_type": "markdown",
   "metadata": {},
   "source": [
    "This code is correct (below) to display converted F to C with respect to their years"
   ]
  },
  {
   "cell_type": "code",
   "execution_count": 48,
   "metadata": {},
   "outputs": [
    {
     "name": "stdout",
     "output_type": "stream",
     "text": [
      " 2015 : [16.46, 16.5, 16.56, 16.36, 16.4, 16.41, 16.33, 16.4, 16.45, 16.69, 16.66, 16.76]\n",
      " 2016 : [16.77, 16.97, 16.96, 16.7, 16.55, 16.4, 16.45, 16.62, 16.51, 16.49, 16.52, 16.46]\n",
      " 2017 : [16.62, 16.74, 16.76, 16.54, 16.51, 16.32, 16.42, 16.47, 16.37, 16.5, 16.48, 16.53]\n",
      " 2018 : [16.42, 16.45, 16.48, 16.49, 16.42, 16.37, 16.42, 16.36, 16.4, 16.62, 16.42, 16.51]\n",
      " 2019 : [16.53, 16.55, 16.77, 16.61, 16.45, 16.5, 16.54, 16.55, 16.53, 16.61, 16.59, 16.69]\n",
      " 2020 : [16.77, 16.84, 16.77, 16.73, 16.61, 16.52, 16.5, 16.47, 16.59, 16.48, 16.7, 16.41]\n",
      " 2021 : [16.41, 16.24, 16.48, 16.35, 16.38, 16.44, 16.52, 16.42, 16.52, 16.6, 16.54, 16.45]\n"
     ]
    }
   ],
   "source": [
    "\n",
    "\n",
    "import numpy as np\n",
    "\n",
    "tempC_list = []\n",
    "anomC_list = []\n",
    "\n",
    "for tempsF,year in zip(tempF_list,years):\n",
    "    tempsC = []\n",
    "    for value in tempsF:\n",
    "        C_value = round(((value -32) *(5/9)),2)\n",
    "        tempsC.append(C_value)\n",
    "    tempC_list.append(tempsC)\n",
    "for temp_list,year in zip(tempC_list,years):\n",
    "    print(f\" {year} : {temp_list}\")\n",
    "\n"
   ]
  },
  {
   "cell_type": "code",
   "execution_count": 19,
   "metadata": {},
   "outputs": [
    {
     "name": "stdout",
     "output_type": "stream",
     "text": [
      "[0.9685714285714274, 1.0128571428571427, 1.082857142857143, 0.9400000000000011, 0.8742857142857157, 0.8228571428571428, 0.8542857142857135, 0.8700000000000002, 0.8814285714285724, 0.9700000000000006, 0.9585714285714284, 0.9442857142857155]\n"
     ]
    }
   ],
   "source": [
    "# Get temps in C and anomalies in C\n",
    "tempC_list = []\n",
    "anomC_list = []\n",
    "\n",
    "mean_temp = 15.6\n",
    "\n",
    "for year_data in tempF_list:\n",
    "    year_C = [(value-32) * 5/9 for value in year_data]\n",
    "    year_C_anom = [value - mean_temp for value in year_C]\n",
    "    tempC_list.append(year_C)\n",
    "    anomC_list.append(year_C_anom)\n",
    "\n",
    "monthly_anomalies = []\n",
    "for i in range(12):\n",
    "    month_vals = []\n",
    "    for j in range(7):\n",
    "        month_vals.append(anomC_list[j][i])\n",
    "    monthly_anomalies.append(np.mean(month_vals))\n",
    "\n",
    "print(monthly_anomalies)"
   ]
  },
  {
   "cell_type": "code",
   "execution_count": 32,
   "metadata": {},
   "outputs": [],
   "source": [
    "%reset"
   ]
  },
  {
   "cell_type": "code",
   "execution_count": null,
   "metadata": {},
   "outputs": [],
   "source": [
    "tempC_list = []\n",
    "anomC_list = []\n",
    "for tempsF,year in zip(tempF_list,years):\n",
    "    tempsC = []\n",
    "    anomsC = []\n",
    "    for tempF in tempsF:\n",
    "        tempC = (tempF - 32.0) * (5/9)\n",
    "        tempsC.append(round(tempC,2))\n",
    "        anomC = tempC - 15.6\n",
    "        anomsC.append(round(anomC,2))\n",
    "    tempC_list.append(tempsC)\n",
    "    anomC_list.append(anomsC)"
   ]
  },
  {
   "cell_type": "code",
   "execution_count": 49,
   "metadata": {},
   "outputs": [
    {
     "name": "stdout",
     "output_type": "stream",
     "text": [
      "2015 anomalies: [0.86, 0.9, 0.96, 0.76, 0.8, 0.81, 0.73, 0.8, 0.85, 1.09, 1.06, 1.16]\n",
      "2016 anomalies: [1.17, 1.37, 1.36, 1.1, 0.95, 0.8, 0.85, 1.02, 0.91, 0.89, 0.92, 0.86]\n",
      "2017 anomalies: [1.02, 1.14, 1.16, 0.94, 0.91, 0.72, 0.82, 0.87, 0.77, 0.9, 0.88, 0.93]\n",
      "2018 anomalies: [0.82, 0.85, 0.88, 0.89, 0.82, 0.77, 0.82, 0.76, 0.8, 1.02, 0.82, 0.91]\n",
      "2019 anomalies: [0.93, 0.95, 1.17, 1.01, 0.85, 0.9, 0.94, 0.95, 0.93, 1.01, 0.99, 1.09]\n",
      "2020 anomalies: [1.17, 1.24, 1.17, 1.13, 1.01, 0.92, 0.9, 0.87, 0.99, 0.88, 1.1, 0.81]\n",
      "2021 anomalies: [0.81, 0.64, 0.88, 0.75, 0.78, 0.84, 0.92, 0.82, 0.92, 1.0, 0.94, 0.85]\n"
     ]
    }
   ],
   "source": [
    "#Create a new list with the mean monthly global surface \n",
    "#temperature anomalies in °C for 2015-2021\n",
    "#(i.e. calculate the mean temperature anomaly for\n",
    "#each month and put these values in a list).\n",
    "# Use the command np.mean() to calculate mean values. \n",
    "\n",
    "\n",
    "for anom_list,year in zip(anomC_list,years):\n",
    "    print(f\"{year} anomalies: {anom_list}\")\n",
    "\n",
    "mean_C = []\n",
    "\n",
    "\n"
   ]
  }
 ],
 "metadata": {
  "kernelspec": {
   "display_name": "eds217_2023",
   "language": "python",
   "name": "python3"
  },
  "language_info": {
   "codemirror_mode": {
    "name": "ipython",
    "version": 3
   },
   "file_extension": ".py",
   "mimetype": "text/x-python",
   "name": "python",
   "nbconvert_exporter": "python",
   "pygments_lexer": "ipython3",
   "version": "3.10.12"
  },
  "orig_nbformat": 4
 },
 "nbformat": 4,
 "nbformat_minor": 2
}

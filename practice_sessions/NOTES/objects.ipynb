{
 "cells": [
  {
   "cell_type": "code",
   "execution_count": 4,
   "metadata": {},
   "outputs": [
    {
     "ename": "NameError",
     "evalue": "name 'Dog' is not defined",
     "output_type": "error",
     "traceback": [
      "\u001b[1;31m---------------------------------------------------------------------------\u001b[0m",
      "\u001b[1;31mNameError\u001b[0m                                 Traceback (most recent call last)",
      "\u001b[1;32mc:\\Users\\hvaqu\\OneDrive\\Documents\\github_repo\\eds217_2023\\practice_sessions\\NOTES\\objects.ipynb Cell 1\u001b[0m line \u001b[0;36m8\n\u001b[0;32m      <a href='vscode-notebook-cell:/c%3A/Users/hvaqu/OneDrive/Documents/github_repo/eds217_2023/practice_sessions/NOTES/objects.ipynb#W0sZmlsZQ%3D%3D?line=4'>5</a>\u001b[0m my_list\u001b[39m.\u001b[39mappend(\u001b[39m12\u001b[39m)\n\u001b[0;32m      <a href='vscode-notebook-cell:/c%3A/Users/hvaqu/OneDrive/Documents/github_repo/eds217_2023/practice_sessions/NOTES/objects.ipynb#W0sZmlsZQ%3D%3D?line=6'>7</a>\u001b[0m \u001b[39mimport\u001b[39;00m \u001b[39mnumpy\u001b[39;00m \u001b[39mas\u001b[39;00m \u001b[39mnp\u001b[39;00m\n\u001b[1;32m----> <a href='vscode-notebook-cell:/c%3A/Users/hvaqu/OneDrive/Documents/github_repo/eds217_2023/practice_sessions/NOTES/objects.ipynb#W0sZmlsZQ%3D%3D?line=7'>8</a>\u001b[0m my_dog \u001b[39m=\u001b[39m Dog(name \u001b[39m=\u001b[39m \u001b[39m'\u001b[39m\u001b[39malbus\u001b[39m\u001b[39m'\u001b[39m, age \u001b[39m=\u001b[39m \u001b[39m5\u001b[39m, breed \u001b[39m=\u001b[39m \u001b[39m'\u001b[39m\u001b[39mgolden retriever\u001b[39m\u001b[39m'\u001b[39m)\n",
      "\u001b[1;31mNameError\u001b[0m: name 'Dog' is not defined"
     ]
    }
   ],
   "source": [
    "##everything is an object all the functions \n",
    "\n",
    "my_list = list([2,3,4,6,12])\n",
    "\n",
    "my_list.append(12)\n",
    "\n",
    "import numpy as np\n",
    "my_dog = Dog(name = 'albus', age = 5, breed = 'golden retriever')"
   ]
  }
 ],
 "metadata": {
  "kernelspec": {
   "display_name": "eds217_2023",
   "language": "python",
   "name": "python3"
  },
  "language_info": {
   "codemirror_mode": {
    "name": "ipython",
    "version": 3
   },
   "file_extension": ".py",
   "mimetype": "text/x-python",
   "name": "python",
   "nbconvert_exporter": "python",
   "pygments_lexer": "ipython3",
   "version": "3.10.12"
  },
  "orig_nbformat": 4
 },
 "nbformat": 4,
 "nbformat_minor": 2
}

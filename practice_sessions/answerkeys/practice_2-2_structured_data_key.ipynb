{
 "cells": [
  {
   "cell_type": "markdown",
   "metadata": {
    "slideshow": {
     "slide_type": "slide"
    }
   },
   "source": [
    "# Practice 2-2: Structured Data in Python"
   ]
  },
  {
   "cell_type": "markdown",
   "metadata": {},
   "source": [
    "## 📚  <b> Practice 1. </b> \n",
    "\n",
    "Dictionaries are an extremely common data structure. Often data is easiest to store according to keys, where each row of data has a unique key. \n",
    "\n",
    "For example, a dictionary of students might have a key for each student's name or id, and then a set of values that are associated with that student.\n",
    "\n",
    "### Make a dictionary of your peers.\n",
    "\n",
    "Come up with 3-4 questions and ask 5-6 of your peers to give answers to each one. The questions can be anything you want, but they should be questions that can be answered with a single word or number.\n",
    "\n",
    "For example, you might ask:\n",
    "- What is your favorite color? (pretty weak question)\n",
    "- How many siblings do you have? (ok, but not great)\n",
    "- What is your favorite genre of film? (better)\n",
    "- On a scale of 1-10, how well do you feel that you understand python dictionaries? (better still)\n",
    "\n",
    "Make sure you have a key for each person, and then a set of values for each question. \n",
    "\n",
    "Based on each person's responses, build a dictionary in the cell below:\n",
    "\n",
    "(note: You will end up with a dictionary of dictionaries)\n",
    "\n",
    "```python\n",
    "# Example:\n",
    "my_dict = {\n",
    "    'person1': {\n",
    "        'question1': 'answer1',\n",
    "        'question2': 'answer2',\n",
    "        'question3': 'answer3',\n",
    "        'question4': 'answer4',\n",
    "    },\n",
    "    'person2': {\n",
    "        'question1': 'answer1',\n",
    "        'question2': 'answer2',\n",
    "        'question3': 'answer3',\n",
    "        'question4': 'answer4',\n",
    "    },\n",
    "    'person3': {\n",
    "        'question1': 'answer1',\n",
    "        'question2': 'answer2',\n",
    "        'question3': 'answer3',\n",
    "        'question4': 'answer4',\n",
    "    },\n",
    "}\n",
    "```"
   ]
  },
  {
   "cell_type": "code",
   "execution_count": 15,
   "metadata": {},
   "outputs": [],
   "source": [
    "my_dict = {\n",
    "    'Oksana': {\n",
    "        'what is your favorite cusine': 'fusion',\n",
    "        'cats or dogs or rats': 'dogs',\n",
    "        'favorite dessert': 'strudent',\n",
    "        'least favorite food': 'steak',\n",
    "    },\n",
    "    'Rosemary': {\n",
    "        'what is your favorite cusine': 'Mexican',\n",
    "        'cats or dogs or rats': 'rats',\n",
    "        'favorite dessert': 'cheesecake',\n",
    "        'least favorite food': 'blue cheese',\n",
    "    },\n",
    "    'Miriam': {\n",
    "        'what is your favorite cusine': 'Mexican',\n",
    "        'cats or dogs or rats': 'cats',\n",
    "        'favorite dessert': 'cream puffs',\n",
    "        'least favorite food': 'unseasoned',\n",
    "    },\n",
    "    'Hazel': {\n",
    "        'what is your favorite cusine': 'Mexican',\n",
    "        'cats or dogs or rats': 'cats',\n",
    "        'favorite dessert': 'strawberry shortcake',\n",
    "        'least favorite food': 'eggs',\n",
    "    }\n",
    "}"
   ]
  },
  {
   "cell_type": "markdown",
   "metadata": {},
   "source": [
    "## Dictionary to dataframe\n",
    "\n",
    "Now that you have a dictionary, you can convert it to a dataframe.\n",
    "\n",
    "### Convert your dictionary to a dataframe\n",
    "\n",
    "Use the `pd.DataFrame()` function to convert your dictionary to a dataframe.\n",
    "\n",
    "```python\n",
    "import pandas as pd\n",
    "\n",
    "# Convert a dictionary to a dataframe\n",
    "df = pd.DataFrame(my_dict)\n",
    "```\n"
   ]
  },
  {
   "cell_type": "code",
   "execution_count": 16,
   "metadata": {},
   "outputs": [],
   "source": [
    "import pandas as pd\n",
    "df = pd.DataFrame(my_dict)\n"
   ]
  },
  {
   "cell_type": "markdown",
   "metadata": {},
   "source": [
    "\n",
    "### Investigate your dataframe using the following functions:\n",
    "\n",
    "- `df.head()`\n",
    "- `df.tail()`\n",
    "- `df.info()`\n",
    "\n"
   ]
  },
  {
   "cell_type": "code",
   "execution_count": 19,
   "metadata": {},
   "outputs": [
    {
     "name": "stdout",
     "output_type": "stream",
     "text": [
      "<class 'pandas.core.frame.DataFrame'>\n",
      "Index: 4 entries, what is your favorite cusine to least favorite food\n",
      "Data columns (total 4 columns):\n",
      " #   Column    Non-Null Count  Dtype \n",
      "---  ------    --------------  ----- \n",
      " 0   Oksana    4 non-null      object\n",
      " 1   Rosemary  4 non-null      object\n",
      " 2   Miriam    4 non-null      object\n",
      " 3   Hazel     4 non-null      object\n",
      "dtypes: object(4)\n",
      "memory usage: 160.0+ bytes\n"
     ]
    }
   ],
   "source": [
    "\n",
    "df.info()\n"
   ]
  },
  {
   "cell_type": "markdown",
   "metadata": {},
   "source": [
    "Is your dataframe what you expected? If not, what is different? Why?? How would you need to change your data structure to get the dataframe you expected?"
   ]
  },
  {
   "cell_type": "code",
   "execution_count": null,
   "metadata": {},
   "outputs": [],
   "source": [
    "# it is what i expected"
   ]
  },
  {
   "cell_type": "markdown",
   "metadata": {},
   "source": [
    "\n",
    "\n",
    "`df.transpose()` might be helpful here. What does it do?\n",
    "create a new dataframe that is a transposed version of your original dataframe.\n",
    "\n",
    "```python\n",
    "# Transpose a dataframe\n",
    "df_transposed = df.transpose()\n",
    "```"
   ]
  },
  {
   "cell_type": "code",
   "execution_count": 20,
   "metadata": {},
   "outputs": [
    {
     "data": {
      "text/plain": [
       "<bound method DataFrame.transpose of                                 Oksana     Rosemary       Miriam  \\\n",
       "what is your favorite cusine    fusion      Mexican      Mexican   \n",
       "cats or dogs or rats              dogs         rats         cats   \n",
       "favorite dessert              strudent   cheesecake  cream puffs   \n",
       "least favorite food              steak  blue cheese   unseasoned   \n",
       "\n",
       "                                             Hazel  \n",
       "what is your favorite cusine               Mexican  \n",
       "cats or dogs or rats                          cats  \n",
       "favorite dessert              strawberry shortcake  \n",
       "least favorite food                           eggs  >"
      ]
     },
     "execution_count": 20,
     "metadata": {},
     "output_type": "execute_result"
    }
   ],
   "source": [
    "# Transpose your dataframe so that the people are the rows and the questions are the columns.\n",
    "\n",
    "df.transpose"
   ]
  },
  {
   "cell_type": "markdown",
   "metadata": {},
   "source": [
    "### Visualize/summarize your dataframe using one or more of the following functions:\n",
    "\n",
    "- `df.describe()`\n",
    "- `df.plot()`\n",
    "- `df.hist()`"
   ]
  },
  {
   "cell_type": "code",
   "execution_count": 24,
   "metadata": {},
   "outputs": [
    {
     "ename": "ValueError",
     "evalue": "hist method requires numerical or datetime columns, nothing to plot.",
     "output_type": "error",
     "traceback": [
      "\u001b[1;31m---------------------------------------------------------------------------\u001b[0m",
      "\u001b[1;31mValueError\u001b[0m                                Traceback (most recent call last)",
      "\u001b[1;32mc:\\Users\\hvaqu\\OneDrive\\Documents\\github_repo\\eds217_2023\\practice_sessions\\answerkeys\\practice_2-2_structured_data_key.ipynb Cell 13\u001b[0m line \u001b[0;36m1\n\u001b[1;32m----> <a href='vscode-notebook-cell:/c%3A/Users/hvaqu/OneDrive/Documents/github_repo/eds217_2023/practice_sessions/answerkeys/practice_2-2_structured_data_key.ipynb#X15sZmlsZQ%3D%3D?line=0'>1</a>\u001b[0m df\u001b[39m.\u001b[39;49mhist()\n",
      "File \u001b[1;32mc:\\Users\\hvaqu\\anaconda3\\envs\\eds217_2023\\lib\\site-packages\\pandas\\plotting\\_core.py:223\u001b[0m, in \u001b[0;36mhist_frame\u001b[1;34m(data, column, by, grid, xlabelsize, xrot, ylabelsize, yrot, ax, sharex, sharey, figsize, layout, bins, backend, legend, **kwargs)\u001b[0m\n\u001b[0;32m    134\u001b[0m \u001b[39m\u001b[39m\u001b[39m\"\"\"\u001b[39;00m\n\u001b[0;32m    135\u001b[0m \u001b[39mMake a histogram of the DataFrame's columns.\u001b[39;00m\n\u001b[0;32m    136\u001b[0m \n\u001b[1;32m   (...)\u001b[0m\n\u001b[0;32m    220\u001b[0m \u001b[39m    >>> hist = df.hist(bins=3)\u001b[39;00m\n\u001b[0;32m    221\u001b[0m \u001b[39m\"\"\"\u001b[39;00m\n\u001b[0;32m    222\u001b[0m plot_backend \u001b[39m=\u001b[39m _get_plot_backend(backend)\n\u001b[1;32m--> 223\u001b[0m \u001b[39mreturn\u001b[39;00m plot_backend\u001b[39m.\u001b[39mhist_frame(\n\u001b[0;32m    224\u001b[0m     data,\n\u001b[0;32m    225\u001b[0m     column\u001b[39m=\u001b[39mcolumn,\n\u001b[0;32m    226\u001b[0m     by\u001b[39m=\u001b[39mby,\n\u001b[0;32m    227\u001b[0m     grid\u001b[39m=\u001b[39mgrid,\n\u001b[0;32m    228\u001b[0m     xlabelsize\u001b[39m=\u001b[39mxlabelsize,\n\u001b[0;32m    229\u001b[0m     xrot\u001b[39m=\u001b[39mxrot,\n\u001b[0;32m    230\u001b[0m     ylabelsize\u001b[39m=\u001b[39mylabelsize,\n\u001b[0;32m    231\u001b[0m     yrot\u001b[39m=\u001b[39myrot,\n\u001b[0;32m    232\u001b[0m     ax\u001b[39m=\u001b[39max,\n\u001b[0;32m    233\u001b[0m     sharex\u001b[39m=\u001b[39msharex,\n\u001b[0;32m    234\u001b[0m     sharey\u001b[39m=\u001b[39msharey,\n\u001b[0;32m    235\u001b[0m     figsize\u001b[39m=\u001b[39mfigsize,\n\u001b[0;32m    236\u001b[0m     layout\u001b[39m=\u001b[39mlayout,\n\u001b[0;32m    237\u001b[0m     legend\u001b[39m=\u001b[39mlegend,\n\u001b[0;32m    238\u001b[0m     bins\u001b[39m=\u001b[39mbins,\n\u001b[0;32m    239\u001b[0m     \u001b[39m*\u001b[39m\u001b[39m*\u001b[39mkwargs,\n\u001b[0;32m    240\u001b[0m )\n",
      "File \u001b[1;32mc:\\Users\\hvaqu\\anaconda3\\envs\\eds217_2023\\lib\\site-packages\\pandas\\plotting\\_matplotlib\\hist.py:514\u001b[0m, in \u001b[0;36mhist_frame\u001b[1;34m(data, column, by, grid, xlabelsize, xrot, ylabelsize, yrot, ax, sharex, sharey, figsize, layout, bins, legend, **kwds)\u001b[0m\n\u001b[0;32m    511\u001b[0m naxes \u001b[39m=\u001b[39m \u001b[39mlen\u001b[39m(data\u001b[39m.\u001b[39mcolumns)\n\u001b[0;32m    513\u001b[0m \u001b[39mif\u001b[39;00m naxes \u001b[39m==\u001b[39m \u001b[39m0\u001b[39m:\n\u001b[1;32m--> 514\u001b[0m     \u001b[39mraise\u001b[39;00m \u001b[39mValueError\u001b[39;00m(\n\u001b[0;32m    515\u001b[0m         \u001b[39m\"\u001b[39m\u001b[39mhist method requires numerical or datetime columns, nothing to plot.\u001b[39m\u001b[39m\"\u001b[39m\n\u001b[0;32m    516\u001b[0m     )\n\u001b[0;32m    518\u001b[0m fig, axes \u001b[39m=\u001b[39m create_subplots(\n\u001b[0;32m    519\u001b[0m     naxes\u001b[39m=\u001b[39mnaxes,\n\u001b[0;32m    520\u001b[0m     ax\u001b[39m=\u001b[39max,\n\u001b[1;32m   (...)\u001b[0m\n\u001b[0;32m    525\u001b[0m     layout\u001b[39m=\u001b[39mlayout,\n\u001b[0;32m    526\u001b[0m )\n\u001b[0;32m    527\u001b[0m _axes \u001b[39m=\u001b[39m flatten_axes(axes)\n",
      "\u001b[1;31mValueError\u001b[0m: hist method requires numerical or datetime columns, nothing to plot."
     ]
    }
   ],
   "source": []
  },
  {
   "cell_type": "markdown",
   "metadata": {},
   "source": [
    "## 📚  <b> Practice 2. </b>\n",
    "\n",
    "### Structured data search: Find structured data on the internet and convert it to a dataframe.\n",
    "\n",
    "You're looking for data that is in a table format, like a spreadsheet, but not available as an easy to download `.csv` or `.excel` file. This turns out to describe a lot of data!\n",
    "\n",
    "Often you can find this kind of data on wikipedia, or on government websites, or in research articles that contain tables of results.\n"
   ]
  },
  {
   "cell_type": "code",
   "execution_count": 30,
   "metadata": {},
   "outputs": [],
   "source": [
    "import requests \n",
    "\n",
    "url = \"https://static.anaconda.cloud/content/Anaconda_2022_State_of_Data_Science_+Raw_Data.csv\"\n",
    "\n",
    "# Try to access the file using the requests library\n",
    "response = requests.get(url)\n",
    "response.raise_for_status()\n",
    "\n",
    "df1 = pd.DataFrame(response)"
   ]
  },
  {
   "cell_type": "markdown",
   "metadata": {},
   "source": [
    "### Convert your data to a dataframe"
   ]
  },
  {
   "cell_type": "code",
   "execution_count": 31,
   "metadata": {},
   "outputs": [
    {
     "ename": "AttributeError",
     "evalue": "'NoneType' object has no attribute 'strip'",
     "output_type": "error",
     "traceback": [
      "\u001b[1;31m---------------------------------------------------------------------------\u001b[0m",
      "\u001b[1;31mAttributeError\u001b[0m                            Traceback (most recent call last)",
      "\u001b[1;32mc:\\Users\\hvaqu\\OneDrive\\Documents\\github_repo\\eds217_2023\\practice_sessions\\answerkeys\\practice_2-2_structured_data_key.ipynb Cell 17\u001b[0m line \u001b[0;36m1\n\u001b[0;32m     <a href='vscode-notebook-cell:/c%3A/Users/hvaqu/OneDrive/Documents/github_repo/eds217_2023/practice_sessions/answerkeys/practice_2-2_structured_data_key.ipynb#X22sZmlsZQ%3D%3D?line=14'>15</a>\u001b[0m \u001b[39mfor\u001b[39;00m row \u001b[39min\u001b[39;00m rows:\n\u001b[0;32m     <a href='vscode-notebook-cell:/c%3A/Users/hvaqu/OneDrive/Documents/github_repo/eds217_2023/practice_sessions/answerkeys/practice_2-2_structured_data_key.ipynb#X22sZmlsZQ%3D%3D?line=15'>16</a>\u001b[0m     cols \u001b[39m=\u001b[39m row\u001b[39m.\u001b[39mxpath(\u001b[39m'\u001b[39m\u001b[39m.//td\u001b[39m\u001b[39m'\u001b[39m)\n\u001b[1;32m---> <a href='vscode-notebook-cell:/c%3A/Users/hvaqu/OneDrive/Documents/github_repo/eds217_2023/practice_sessions/answerkeys/practice_2-2_structured_data_key.ipynb#X22sZmlsZQ%3D%3D?line=16'>17</a>\u001b[0m     cols \u001b[39m=\u001b[39m [col\u001b[39m.\u001b[39mtext\u001b[39m.\u001b[39mstrip() \u001b[39mfor\u001b[39;00m col \u001b[39min\u001b[39;00m cols]\n\u001b[0;32m     <a href='vscode-notebook-cell:/c%3A/Users/hvaqu/OneDrive/Documents/github_repo/eds217_2023/practice_sessions/answerkeys/practice_2-2_structured_data_key.ipynb#X22sZmlsZQ%3D%3D?line=17'>18</a>\u001b[0m     data\u001b[39m.\u001b[39mappend(cols)\n",
      "\u001b[1;32mc:\\Users\\hvaqu\\OneDrive\\Documents\\github_repo\\eds217_2023\\practice_sessions\\answerkeys\\practice_2-2_structured_data_key.ipynb Cell 17\u001b[0m line \u001b[0;36m1\n\u001b[0;32m     <a href='vscode-notebook-cell:/c%3A/Users/hvaqu/OneDrive/Documents/github_repo/eds217_2023/practice_sessions/answerkeys/practice_2-2_structured_data_key.ipynb#X22sZmlsZQ%3D%3D?line=14'>15</a>\u001b[0m \u001b[39mfor\u001b[39;00m row \u001b[39min\u001b[39;00m rows:\n\u001b[0;32m     <a href='vscode-notebook-cell:/c%3A/Users/hvaqu/OneDrive/Documents/github_repo/eds217_2023/practice_sessions/answerkeys/practice_2-2_structured_data_key.ipynb#X22sZmlsZQ%3D%3D?line=15'>16</a>\u001b[0m     cols \u001b[39m=\u001b[39m row\u001b[39m.\u001b[39mxpath(\u001b[39m'\u001b[39m\u001b[39m.//td\u001b[39m\u001b[39m'\u001b[39m)\n\u001b[1;32m---> <a href='vscode-notebook-cell:/c%3A/Users/hvaqu/OneDrive/Documents/github_repo/eds217_2023/practice_sessions/answerkeys/practice_2-2_structured_data_key.ipynb#X22sZmlsZQ%3D%3D?line=16'>17</a>\u001b[0m     cols \u001b[39m=\u001b[39m [col\u001b[39m.\u001b[39;49mtext\u001b[39m.\u001b[39;49mstrip() \u001b[39mfor\u001b[39;00m col \u001b[39min\u001b[39;00m cols]\n\u001b[0;32m     <a href='vscode-notebook-cell:/c%3A/Users/hvaqu/OneDrive/Documents/github_repo/eds217_2023/practice_sessions/answerkeys/practice_2-2_structured_data_key.ipynb#X22sZmlsZQ%3D%3D?line=17'>18</a>\u001b[0m     data\u001b[39m.\u001b[39mappend(cols)\n",
      "\u001b[1;31mAttributeError\u001b[0m: 'NoneType' object has no attribute 'strip'"
     ]
    }
   ],
   "source": [
    "from lxml import html\n",
    "from \n",
    "\n",
    "url = \"https://en.wikipedia.org/wiki/Sprite_(computer_graphics)\"\n",
    "response = requests.get(url)\n",
    "\n",
    "html_content = response.content\n",
    "\n",
    "money = html.fromstring(html_content)\n",
    "\n",
    "table_element = money.xpath('//table')[0]\n",
    "rows = table_element.xpath('.//tr')\n",
    "\n",
    "data = []\n",
    "\n",
    "for row in rows:\n",
    "    cols = row.xpath('.//td')\n",
    "    cols = [col.text.strip() for col in cols]\n",
    "    data.append(cols)\n",
    "\n"
   ]
  },
  {
   "cell_type": "code",
   "execution_count": null,
   "metadata": {},
   "outputs": [],
   "source": [
    "import requests\n",
    "\n",
    "url = 'https://www.example.com/table.html'\n",
    "response = requests.get(url)\n",
    "\n",
    "html_content = response.content\n",
    "\n",
    "from lxml import html\n",
    "\n",
    "tree = html.fromstring(html_content)\n",
    "\n",
    "table_element = tree.xpath('//table')[0]\n",
    "rows = table_element.xpath('.//tr')\n",
    "\n",
    "data = []\n",
    "for row in rows:\n",
    "    cols = row.xpath('.//td')\n",
    "    cols = [col.text.strip() for col in cols]\n",
    "    data.append(cols)"
   ]
  },
  {
   "cell_type": "code",
   "execution_count": 34,
   "metadata": {},
   "outputs": [
    {
     "name": "stdout",
     "output_type": "stream",
     "text": [
      "200\n",
      "   Rank       City  Population (2011)[3]  Population (2001)[3][a]  \\\n",
      "0     1     Mumbai              12442373                 11978450   \n",
      "1     2      Delhi              11034555                  9879172   \n",
      "2     3  Bangalore               8443675                  5682293   \n",
      "3     4  Hyderabad               6993262                  5496960   \n",
      "4     5  Ahmedabad               5577940                  4470006   \n",
      "\n",
      "  State or union territory  Ref  \n",
      "0              Maharashtra  [3]  \n",
      "1                    Delhi  [3]  \n",
      "2                Karnataka  [3]  \n",
      "3                Telangana  [3]  \n",
      "4                  Gujarat  [3]  \n"
     ]
    }
   ],
   "source": [
    "import pandas as pd # library for data analysis\n",
    "import requests # library to handle requests\n",
    "from bs4 import BeautifulSoup # library to parse HTML documents\n",
    "\n",
    "# get the response in the form of html\n",
    "wikiurl=\"https://en.wikipedia.org/wiki/List_of_cities_in_India_by_population\"\n",
    "table_class=\"wikitable sortable jquery-tablesorter\"\n",
    "response=requests.get(wikiurl)\n",
    "print(response.status_code)\n",
    "\n",
    "# parse data from the html into a beautifulsoup object\n",
    "soup = BeautifulSoup(response.text, 'html.parser')\n",
    "indiatable=soup.find('table',{'class':\"wikitable\"})\n",
    "df=pd.read_html(str(indiatable))\n",
    "# convert list to dataframe\n",
    "df=pd.DataFrame(df[0])\n",
    "print(df.head())"
   ]
  },
  {
   "cell_type": "markdown",
   "metadata": {},
   "source": [
    "## Explore your dataframe using the following functions:\n",
    "\n",
    "- `df.describe()`\n",
    "- `df.plot()`\n",
    "- `df.hist()`"
   ]
  }
 ],
 "metadata": {
  "kernelspec": {
   "display_name": "Python 3",
   "language": "python",
   "name": "python3"
  },
  "language_info": {
   "codemirror_mode": {
    "name": "ipython",
    "version": 3
   },
   "file_extension": ".py",
   "mimetype": "text/x-python",
   "name": "python",
   "nbconvert_exporter": "python",
   "pygments_lexer": "ipython3",
   "version": "3.10.12"
  }
 },
 "nbformat": 4,
 "nbformat_minor": 4
}
